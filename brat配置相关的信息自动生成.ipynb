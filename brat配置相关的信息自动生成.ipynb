{
 "cells": [
  {
   "cell_type": "code",
   "execution_count": 12,
   "metadata": {},
   "outputs": [],
   "source": [
    "ill = ['疾病名称',\n",
    "'细菌、病毒',\n",
    "'受伤',\n",
    "'畸形']\n",
    "\n",
    "\n",
    "zz = ['自诉症状',\n",
    "'症状属性',\n",
    "'症状诱因',\n",
    "'异常体征',\n",
    "'异常检查']\n",
    "\n",
    "jc = ['查体',\n",
    "'检查项目',\n",
    "'辅助检查',\n",
    "'检查指标',\n",
    "'指标值']\n",
    "\n",
    "zl  =['药物',\n",
    "'治疗过程',\n",
    "'医疗设备',\n",
    "'其他治疗']\n",
    "\n",
    "fl = ['疾病分期',\n",
    "'疾病类型']\n"
   ]
  },
  {
   "cell_type": "code",
   "execution_count": 3,
   "metadata": {},
   "outputs": [
    {
     "name": "stdout",
     "output_type": "stream",
     "text": [
      "改善              Arg1:药物,Arg2:疾病名称\n",
      "改善              Arg1:药物,Arg2:细菌、病毒\n",
      "改善              Arg1:药物,Arg2:受伤\n",
      "改善              Arg1:药物,Arg2:畸形\n",
      "改善              Arg1:治疗过程,Arg2:疾病名称\n",
      "改善              Arg1:治疗过程,Arg2:细菌、病毒\n",
      "改善              Arg1:治疗过程,Arg2:受伤\n",
      "改善              Arg1:治疗过程,Arg2:畸形\n",
      "改善              Arg1:医疗设备,Arg2:疾病名称\n",
      "改善              Arg1:医疗设备,Arg2:细菌、病毒\n",
      "改善              Arg1:医疗设备,Arg2:受伤\n",
      "改善              Arg1:医疗设备,Arg2:畸形\n",
      "改善              Arg1:其他治疗,Arg2:疾病名称\n",
      "改善              Arg1:其他治疗,Arg2:细菌、病毒\n",
      "改善              Arg1:其他治疗,Arg2:受伤\n",
      "改善              Arg1:其他治疗,Arg2:畸形\n",
      "恶化              Arg1:药物,Arg2:疾病名称\n",
      "恶化              Arg1:药物,Arg2:细菌、病毒\n",
      "恶化              Arg1:药物,Arg2:受伤\n",
      "恶化              Arg1:药物,Arg2:畸形\n",
      "恶化              Arg1:治疗过程,Arg2:疾病名称\n",
      "恶化              Arg1:治疗过程,Arg2:细菌、病毒\n",
      "恶化              Arg1:治疗过程,Arg2:受伤\n",
      "恶化              Arg1:治疗过程,Arg2:畸形\n",
      "恶化              Arg1:医疗设备,Arg2:疾病名称\n",
      "恶化              Arg1:医疗设备,Arg2:细菌、病毒\n",
      "恶化              Arg1:医疗设备,Arg2:受伤\n",
      "恶化              Arg1:医疗设备,Arg2:畸形\n",
      "恶化              Arg1:其他治疗,Arg2:疾病名称\n",
      "恶化              Arg1:其他治疗,Arg2:细菌、病毒\n",
      "恶化              Arg1:其他治疗,Arg2:受伤\n",
      "恶化              Arg1:其他治疗,Arg2:畸形\n",
      "导致              Arg1:药物,Arg2:疾病名称\n",
      "导致              Arg1:药物,Arg2:细菌、病毒\n",
      "导致              Arg1:药物,Arg2:受伤\n",
      "导致              Arg1:药物,Arg2:畸形\n",
      "导致              Arg1:治疗过程,Arg2:疾病名称\n",
      "导致              Arg1:治疗过程,Arg2:细菌、病毒\n",
      "导致              Arg1:治疗过程,Arg2:受伤\n",
      "导致              Arg1:治疗过程,Arg2:畸形\n",
      "导致              Arg1:医疗设备,Arg2:疾病名称\n",
      "导致              Arg1:医疗设备,Arg2:细菌、病毒\n",
      "导致              Arg1:医疗设备,Arg2:受伤\n",
      "导致              Arg1:医疗设备,Arg2:畸形\n",
      "导致              Arg1:其他治疗,Arg2:疾病名称\n",
      "导致              Arg1:其他治疗,Arg2:细菌、病毒\n",
      "导致              Arg1:其他治疗,Arg2:受伤\n",
      "导致              Arg1:其他治疗,Arg2:畸形\n",
      "施加              Arg1:药物,Arg2:疾病名称\n",
      "施加              Arg1:药物,Arg2:细菌、病毒\n",
      "施加              Arg1:药物,Arg2:受伤\n",
      "施加              Arg1:药物,Arg2:畸形\n",
      "施加              Arg1:治疗过程,Arg2:疾病名称\n",
      "施加              Arg1:治疗过程,Arg2:细菌、病毒\n",
      "施加              Arg1:治疗过程,Arg2:受伤\n",
      "施加              Arg1:治疗过程,Arg2:畸形\n",
      "施加              Arg1:医疗设备,Arg2:疾病名称\n",
      "施加              Arg1:医疗设备,Arg2:细菌、病毒\n",
      "施加              Arg1:医疗设备,Arg2:受伤\n",
      "施加              Arg1:医疗设备,Arg2:畸形\n",
      "施加              Arg1:其他治疗,Arg2:疾病名称\n",
      "施加              Arg1:其他治疗,Arg2:细菌、病毒\n",
      "施加              Arg1:其他治疗,Arg2:受伤\n",
      "施加              Arg1:其他治疗,Arg2:畸形\n"
     ]
    }
   ],
   "source": [
    "#治疗 疾病\n",
    "for i in ['改善','恶化','导致','施加']:\n",
    "    for ii in zl:\n",
    "        for iii in ill:\n",
    "            print('{}              Arg1:{},Arg2:{}'.format(i,ii,iii))"
   ]
  },
  {
   "cell_type": "code",
   "execution_count": 4,
   "metadata": {},
   "outputs": [
    {
     "name": "stdout",
     "output_type": "stream",
     "text": [
      "原因              Arg1:疾病名称,Arg2:药物\n",
      "原因              Arg1:疾病名称,Arg2:治疗过程\n",
      "原因              Arg1:疾病名称,Arg2:医疗设备\n",
      "原因              Arg1:疾病名称,Arg2:其他治疗\n",
      "原因              Arg1:细菌、病毒,Arg2:药物\n",
      "原因              Arg1:细菌、病毒,Arg2:治疗过程\n",
      "原因              Arg1:细菌、病毒,Arg2:医疗设备\n",
      "原因              Arg1:细菌、病毒,Arg2:其他治疗\n",
      "原因              Arg1:受伤,Arg2:药物\n",
      "原因              Arg1:受伤,Arg2:治疗过程\n",
      "原因              Arg1:受伤,Arg2:医疗设备\n",
      "原因              Arg1:受伤,Arg2:其他治疗\n",
      "原因              Arg1:畸形,Arg2:药物\n",
      "原因              Arg1:畸形,Arg2:治疗过程\n",
      "原因              Arg1:畸形,Arg2:医疗设备\n",
      "原因              Arg1:畸形,Arg2:其他治疗\n"
     ]
    }
   ],
   "source": [
    "#疾病 治疗 \n",
    "for i in ['原因']:\n",
    "    for ii in ill:\n",
    "        for iii in zl:\n",
    "            print('{}              Arg1:{},Arg2:{}'.format(i,ii,iii))"
   ]
  },
  {
   "cell_type": "code",
   "execution_count": 5,
   "metadata": {},
   "outputs": [
    {
     "name": "stdout",
     "output_type": "stream",
     "text": [
      "改善              Arg1:药物,Arg2:自诉症状\n",
      "改善              Arg1:药物,Arg2:症状属性\n",
      "改善              Arg1:药物,Arg2:症状诱因\n",
      "改善              Arg1:药物,Arg2:异常体征\n",
      "改善              Arg1:药物,Arg2:异常检查\n",
      "改善              Arg1:治疗过程,Arg2:自诉症状\n",
      "改善              Arg1:治疗过程,Arg2:症状属性\n",
      "改善              Arg1:治疗过程,Arg2:症状诱因\n",
      "改善              Arg1:治疗过程,Arg2:异常体征\n",
      "改善              Arg1:治疗过程,Arg2:异常检查\n",
      "改善              Arg1:医疗设备,Arg2:自诉症状\n",
      "改善              Arg1:医疗设备,Arg2:症状属性\n",
      "改善              Arg1:医疗设备,Arg2:症状诱因\n",
      "改善              Arg1:医疗设备,Arg2:异常体征\n",
      "改善              Arg1:医疗设备,Arg2:异常检查\n",
      "改善              Arg1:其他治疗,Arg2:自诉症状\n",
      "改善              Arg1:其他治疗,Arg2:症状属性\n",
      "改善              Arg1:其他治疗,Arg2:症状诱因\n",
      "改善              Arg1:其他治疗,Arg2:异常体征\n",
      "改善              Arg1:其他治疗,Arg2:异常检查\n",
      "恶化              Arg1:药物,Arg2:自诉症状\n",
      "恶化              Arg1:药物,Arg2:症状属性\n",
      "恶化              Arg1:药物,Arg2:症状诱因\n",
      "恶化              Arg1:药物,Arg2:异常体征\n",
      "恶化              Arg1:药物,Arg2:异常检查\n",
      "恶化              Arg1:治疗过程,Arg2:自诉症状\n",
      "恶化              Arg1:治疗过程,Arg2:症状属性\n",
      "恶化              Arg1:治疗过程,Arg2:症状诱因\n",
      "恶化              Arg1:治疗过程,Arg2:异常体征\n",
      "恶化              Arg1:治疗过程,Arg2:异常检查\n",
      "恶化              Arg1:医疗设备,Arg2:自诉症状\n",
      "恶化              Arg1:医疗设备,Arg2:症状属性\n",
      "恶化              Arg1:医疗设备,Arg2:症状诱因\n",
      "恶化              Arg1:医疗设备,Arg2:异常体征\n",
      "恶化              Arg1:医疗设备,Arg2:异常检查\n",
      "恶化              Arg1:其他治疗,Arg2:自诉症状\n",
      "恶化              Arg1:其他治疗,Arg2:症状属性\n",
      "恶化              Arg1:其他治疗,Arg2:症状诱因\n",
      "恶化              Arg1:其他治疗,Arg2:异常体征\n",
      "恶化              Arg1:其他治疗,Arg2:异常检查\n",
      "导致              Arg1:药物,Arg2:自诉症状\n",
      "导致              Arg1:药物,Arg2:症状属性\n",
      "导致              Arg1:药物,Arg2:症状诱因\n",
      "导致              Arg1:药物,Arg2:异常体征\n",
      "导致              Arg1:药物,Arg2:异常检查\n",
      "导致              Arg1:治疗过程,Arg2:自诉症状\n",
      "导致              Arg1:治疗过程,Arg2:症状属性\n",
      "导致              Arg1:治疗过程,Arg2:症状诱因\n",
      "导致              Arg1:治疗过程,Arg2:异常体征\n",
      "导致              Arg1:治疗过程,Arg2:异常检查\n",
      "导致              Arg1:医疗设备,Arg2:自诉症状\n",
      "导致              Arg1:医疗设备,Arg2:症状属性\n",
      "导致              Arg1:医疗设备,Arg2:症状诱因\n",
      "导致              Arg1:医疗设备,Arg2:异常体征\n",
      "导致              Arg1:医疗设备,Arg2:异常检查\n",
      "导致              Arg1:其他治疗,Arg2:自诉症状\n",
      "导致              Arg1:其他治疗,Arg2:症状属性\n",
      "导致              Arg1:其他治疗,Arg2:症状诱因\n",
      "导致              Arg1:其他治疗,Arg2:异常体征\n",
      "导致              Arg1:其他治疗,Arg2:异常检查\n",
      "施加              Arg1:药物,Arg2:自诉症状\n",
      "施加              Arg1:药物,Arg2:症状属性\n",
      "施加              Arg1:药物,Arg2:症状诱因\n",
      "施加              Arg1:药物,Arg2:异常体征\n",
      "施加              Arg1:药物,Arg2:异常检查\n",
      "施加              Arg1:治疗过程,Arg2:自诉症状\n",
      "施加              Arg1:治疗过程,Arg2:症状属性\n",
      "施加              Arg1:治疗过程,Arg2:症状诱因\n",
      "施加              Arg1:治疗过程,Arg2:异常体征\n",
      "施加              Arg1:治疗过程,Arg2:异常检查\n",
      "施加              Arg1:医疗设备,Arg2:自诉症状\n",
      "施加              Arg1:医疗设备,Arg2:症状属性\n",
      "施加              Arg1:医疗设备,Arg2:症状诱因\n",
      "施加              Arg1:医疗设备,Arg2:异常体征\n",
      "施加              Arg1:医疗设备,Arg2:异常检查\n",
      "施加              Arg1:其他治疗,Arg2:自诉症状\n",
      "施加              Arg1:其他治疗,Arg2:症状属性\n",
      "施加              Arg1:其他治疗,Arg2:症状诱因\n",
      "施加              Arg1:其他治疗,Arg2:异常体征\n",
      "施加              Arg1:其他治疗,Arg2:异常检查\n"
     ]
    }
   ],
   "source": [
    "#治疗 症状\n",
    "for i in ['改善','恶化','导致','施加']:\n",
    "    for ii in zl:\n",
    "        for iii in zz:\n",
    "            print('{}              Arg1:{},Arg2:{}'.format(i,ii,iii))"
   ]
  },
  {
   "cell_type": "code",
   "execution_count": 6,
   "metadata": {},
   "outputs": [
    {
     "name": "stdout",
     "output_type": "stream",
     "text": [
      "未采取              Arg1:自诉症状,Arg2:药物\n",
      "未采取              Arg1:自诉症状,Arg2:治疗过程\n",
      "未采取              Arg1:自诉症状,Arg2:医疗设备\n",
      "未采取              Arg1:自诉症状,Arg2:其他治疗\n",
      "未采取              Arg1:症状属性,Arg2:药物\n",
      "未采取              Arg1:症状属性,Arg2:治疗过程\n",
      "未采取              Arg1:症状属性,Arg2:医疗设备\n",
      "未采取              Arg1:症状属性,Arg2:其他治疗\n",
      "未采取              Arg1:症状诱因,Arg2:药物\n",
      "未采取              Arg1:症状诱因,Arg2:治疗过程\n",
      "未采取              Arg1:症状诱因,Arg2:医疗设备\n",
      "未采取              Arg1:症状诱因,Arg2:其他治疗\n",
      "未采取              Arg1:异常体征,Arg2:药物\n",
      "未采取              Arg1:异常体征,Arg2:治疗过程\n",
      "未采取              Arg1:异常体征,Arg2:医疗设备\n",
      "未采取              Arg1:异常体征,Arg2:其他治疗\n",
      "未采取              Arg1:异常检查,Arg2:药物\n",
      "未采取              Arg1:异常检查,Arg2:治疗过程\n",
      "未采取              Arg1:异常检查,Arg2:医疗设备\n",
      "未采取              Arg1:异常检查,Arg2:其他治疗\n"
     ]
    }
   ],
   "source": [
    "#zz 治疗 \n",
    "for i in ['未采取']:\n",
    "    for ii in zz:\n",
    "        for iii in zl:\n",
    "            print('{}              Arg1:{},Arg2:{}'.format(i,ii,iii))"
   ]
  },
  {
   "cell_type": "code",
   "execution_count": 7,
   "metadata": {},
   "outputs": [
    {
     "name": "stdout",
     "output_type": "stream",
     "text": [
      "证实              Arg1:查体,Arg2:疾病名称\n",
      "证实              Arg1:查体,Arg2:细菌、病毒\n",
      "证实              Arg1:查体,Arg2:受伤\n",
      "证实              Arg1:查体,Arg2:畸形\n",
      "证实              Arg1:检查项目,Arg2:疾病名称\n",
      "证实              Arg1:检查项目,Arg2:细菌、病毒\n",
      "证实              Arg1:检查项目,Arg2:受伤\n",
      "证实              Arg1:检查项目,Arg2:畸形\n",
      "证实              Arg1:辅助检查,Arg2:疾病名称\n",
      "证实              Arg1:辅助检查,Arg2:细菌、病毒\n",
      "证实              Arg1:辅助检查,Arg2:受伤\n",
      "证实              Arg1:辅助检查,Arg2:畸形\n",
      "证实              Arg1:检查指标,Arg2:疾病名称\n",
      "证实              Arg1:检查指标,Arg2:细菌、病毒\n",
      "证实              Arg1:检查指标,Arg2:受伤\n",
      "证实              Arg1:检查指标,Arg2:畸形\n",
      "证实              Arg1:指标值,Arg2:疾病名称\n",
      "证实              Arg1:指标值,Arg2:细菌、病毒\n",
      "证实              Arg1:指标值,Arg2:受伤\n",
      "证实              Arg1:指标值,Arg2:畸形\n"
     ]
    }
   ],
   "source": [
    "#jc 疾病 \n",
    "for i in ['证实']:\n",
    "    for ii in jc:\n",
    "        for iii in ill:\n",
    "            print('{}              Arg1:{},Arg2:{}'.format(i,ii,iii))"
   ]
  },
  {
   "cell_type": "code",
   "execution_count": 8,
   "metadata": {},
   "outputs": [
    {
     "name": "stdout",
     "output_type": "stream",
     "text": [
      "为证实              Arg1:疾病名称,Arg2:查体\n",
      "为证实              Arg1:疾病名称,Arg2:检查项目\n",
      "为证实              Arg1:疾病名称,Arg2:辅助检查\n",
      "为证实              Arg1:疾病名称,Arg2:检查指标\n",
      "为证实              Arg1:疾病名称,Arg2:指标值\n",
      "为证实              Arg1:细菌、病毒,Arg2:查体\n",
      "为证实              Arg1:细菌、病毒,Arg2:检查项目\n",
      "为证实              Arg1:细菌、病毒,Arg2:辅助检查\n",
      "为证实              Arg1:细菌、病毒,Arg2:检查指标\n",
      "为证实              Arg1:细菌、病毒,Arg2:指标值\n",
      "为证实              Arg1:受伤,Arg2:查体\n",
      "为证实              Arg1:受伤,Arg2:检查项目\n",
      "为证实              Arg1:受伤,Arg2:辅助检查\n",
      "为证实              Arg1:受伤,Arg2:检查指标\n",
      "为证实              Arg1:受伤,Arg2:指标值\n",
      "为证实              Arg1:畸形,Arg2:查体\n",
      "为证实              Arg1:畸形,Arg2:检查项目\n",
      "为证实              Arg1:畸形,Arg2:辅助检查\n",
      "为证实              Arg1:畸形,Arg2:检查指标\n",
      "为证实              Arg1:畸形,Arg2:指标值\n"
     ]
    }
   ],
   "source": [
    "#疾病  jc \n",
    "for i in ['为证实']:\n",
    "    for ii in ill:\n",
    "        for iii in jc:\n",
    "            print('{}              Arg1:{},Arg2:{}'.format(i,ii,iii))"
   ]
  },
  {
   "cell_type": "code",
   "execution_count": 9,
   "metadata": {},
   "outputs": [
    {
     "name": "stdout",
     "output_type": "stream",
     "text": [
      "发现              Arg1:查体,Arg2:自诉症状\n",
      "发现              Arg1:查体,Arg2:症状属性\n",
      "发现              Arg1:查体,Arg2:症状诱因\n",
      "发现              Arg1:查体,Arg2:异常体征\n",
      "发现              Arg1:查体,Arg2:异常检查\n",
      "发现              Arg1:检查项目,Arg2:自诉症状\n",
      "发现              Arg1:检查项目,Arg2:症状属性\n",
      "发现              Arg1:检查项目,Arg2:症状诱因\n",
      "发现              Arg1:检查项目,Arg2:异常体征\n",
      "发现              Arg1:检查项目,Arg2:异常检查\n",
      "发现              Arg1:辅助检查,Arg2:自诉症状\n",
      "发现              Arg1:辅助检查,Arg2:症状属性\n",
      "发现              Arg1:辅助检查,Arg2:症状诱因\n",
      "发现              Arg1:辅助检查,Arg2:异常体征\n",
      "发现              Arg1:辅助检查,Arg2:异常检查\n",
      "发现              Arg1:检查指标,Arg2:自诉症状\n",
      "发现              Arg1:检查指标,Arg2:症状属性\n",
      "发现              Arg1:检查指标,Arg2:症状诱因\n",
      "发现              Arg1:检查指标,Arg2:异常体征\n",
      "发现              Arg1:检查指标,Arg2:异常检查\n",
      "发现              Arg1:指标值,Arg2:自诉症状\n",
      "发现              Arg1:指标值,Arg2:症状属性\n",
      "发现              Arg1:指标值,Arg2:症状诱因\n",
      "发现              Arg1:指标值,Arg2:异常体征\n",
      "发现              Arg1:指标值,Arg2:异常检查\n"
     ]
    }
   ],
   "source": [
    "#jc 症状 \n",
    "for i in ['发现']:\n",
    "    for ii in jc:\n",
    "        for iii in zz:\n",
    "            print('{}              Arg1:{},Arg2:{}'.format(i,ii,iii))"
   ]
  },
  {
   "cell_type": "code",
   "execution_count": 10,
   "metadata": {},
   "outputs": [
    {
     "name": "stdout",
     "output_type": "stream",
     "text": [
      "原因              Arg1:自诉症状,Arg2:查体\n",
      "原因              Arg1:自诉症状,Arg2:检查项目\n",
      "原因              Arg1:自诉症状,Arg2:辅助检查\n",
      "原因              Arg1:自诉症状,Arg2:检查指标\n",
      "原因              Arg1:自诉症状,Arg2:指标值\n",
      "原因              Arg1:症状属性,Arg2:查体\n",
      "原因              Arg1:症状属性,Arg2:检查项目\n",
      "原因              Arg1:症状属性,Arg2:辅助检查\n",
      "原因              Arg1:症状属性,Arg2:检查指标\n",
      "原因              Arg1:症状属性,Arg2:指标值\n",
      "原因              Arg1:症状诱因,Arg2:查体\n",
      "原因              Arg1:症状诱因,Arg2:检查项目\n",
      "原因              Arg1:症状诱因,Arg2:辅助检查\n",
      "原因              Arg1:症状诱因,Arg2:检查指标\n",
      "原因              Arg1:症状诱因,Arg2:指标值\n",
      "原因              Arg1:异常体征,Arg2:查体\n",
      "原因              Arg1:异常体征,Arg2:检查项目\n",
      "原因              Arg1:异常体征,Arg2:辅助检查\n",
      "原因              Arg1:异常体征,Arg2:检查指标\n",
      "原因              Arg1:异常体征,Arg2:指标值\n",
      "原因              Arg1:异常检查,Arg2:查体\n",
      "原因              Arg1:异常检查,Arg2:检查项目\n",
      "原因              Arg1:异常检查,Arg2:辅助检查\n",
      "原因              Arg1:异常检查,Arg2:检查指标\n",
      "原因              Arg1:异常检查,Arg2:指标值\n"
     ]
    }
   ],
   "source": [
    "#症状  jc \n",
    "for i in ['原因']:\n",
    "    for ii in zz:\n",
    "        for iii in jc:\n",
    "            print('{}              Arg1:{},Arg2:{}'.format(i,ii,iii))"
   ]
  },
  {
   "cell_type": "code",
   "execution_count": 11,
   "metadata": {},
   "outputs": [
    {
     "name": "stdout",
     "output_type": "stream",
     "text": [
      "导致              Arg1:疾病名称,Arg2:自诉症状\n",
      "导致              Arg1:疾病名称,Arg2:症状属性\n",
      "导致              Arg1:疾病名称,Arg2:症状诱因\n",
      "导致              Arg1:疾病名称,Arg2:异常体征\n",
      "导致              Arg1:疾病名称,Arg2:异常检查\n",
      "导致              Arg1:细菌、病毒,Arg2:自诉症状\n",
      "导致              Arg1:细菌、病毒,Arg2:症状属性\n",
      "导致              Arg1:细菌、病毒,Arg2:症状诱因\n",
      "导致              Arg1:细菌、病毒,Arg2:异常体征\n",
      "导致              Arg1:细菌、病毒,Arg2:异常检查\n",
      "导致              Arg1:受伤,Arg2:自诉症状\n",
      "导致              Arg1:受伤,Arg2:症状属性\n",
      "导致              Arg1:受伤,Arg2:症状诱因\n",
      "导致              Arg1:受伤,Arg2:异常体征\n",
      "导致              Arg1:受伤,Arg2:异常检查\n",
      "导致              Arg1:畸形,Arg2:自诉症状\n",
      "导致              Arg1:畸形,Arg2:症状属性\n",
      "导致              Arg1:畸形,Arg2:症状诱因\n",
      "导致              Arg1:畸形,Arg2:异常体征\n",
      "导致              Arg1:畸形,Arg2:异常检查\n"
     ]
    }
   ],
   "source": [
    "#ill 症状 \n",
    "for i in ['导致']:\n",
    "    for ii in ill:\n",
    "        for iii in zz:\n",
    "            print('{}              Arg1:{},Arg2:{}'.format(i,ii,iii))"
   ]
  },
  {
   "cell_type": "code",
   "execution_count": 14,
   "metadata": {},
   "outputs": [
    {
     "name": "stdout",
     "output_type": "stream",
     "text": [
      "类别              Arg1:疾病分期,Arg2:疾病名称\n",
      "类别              Arg1:疾病分期,Arg2:细菌、病毒\n",
      "类别              Arg1:疾病分期,Arg2:受伤\n",
      "类别              Arg1:疾病分期,Arg2:畸形\n",
      "类别              Arg1:疾病类型,Arg2:疾病名称\n",
      "类别              Arg1:疾病类型,Arg2:细菌、病毒\n",
      "类别              Arg1:疾病类型,Arg2:受伤\n",
      "类别              Arg1:疾病类型,Arg2:畸形\n"
     ]
    }
   ],
   "source": [
    "#分类 ill \n",
    "for i in ['类别']:\n",
    "    for ii in fl:\n",
    "        for iii in ill:\n",
    "            print('{}              Arg1:{},Arg2:{}'.format(i,ii,iii))"
   ]
  },
  {
   "cell_type": "code",
   "execution_count": 16,
   "metadata": {},
   "outputs": [
    {
     "name": "stdout",
     "output_type": "stream",
     "text": [
      "关联              Arg1:部位,Arg2:自诉症状\n",
      "关联              Arg1:部位,Arg2:症状属性\n",
      "关联              Arg1:部位,Arg2:症状诱因\n",
      "关联              Arg1:部位,Arg2:异常体征\n",
      "关联              Arg1:部位,Arg2:异常检查\n"
     ]
    }
   ],
   "source": [
    "#bw zz\n",
    "for i in ['关联']:\n",
    "    for ii in ['部位']:\n",
    "        for iii in zz:\n",
    "            print('{}              Arg1:{},Arg2:{}'.format(i,ii,iii))"
   ]
  },
  {
   "cell_type": "code",
   "execution_count": null,
   "metadata": {},
   "outputs": [],
   "source": []
  }
 ],
 "metadata": {
  "kernelspec": {
   "display_name": "Python 3",
   "language": "python",
   "name": "python3"
  },
  "language_info": {
   "codemirror_mode": {
    "name": "ipython",
    "version": 3
   },
   "file_extension": ".py",
   "mimetype": "text/x-python",
   "name": "python",
   "nbconvert_exporter": "python",
   "pygments_lexer": "ipython3",
   "version": "3.6.5"
  }
 },
 "nbformat": 4,
 "nbformat_minor": 2
}
